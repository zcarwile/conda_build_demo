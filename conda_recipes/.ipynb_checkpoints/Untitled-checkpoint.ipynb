{
 "cells": [
  {
   "cell_type": "code",
   "execution_count": 2,
   "metadata": {
    "collapsed": false
   },
   "outputs": [],
   "source": [
    "from freesteam import *\n",
    "\n"
   ]
  },
  {
   "cell_type": "code",
   "execution_count": 3,
   "metadata": {
    "collapsed": false
   },
   "outputs": [
    {
     "name": "stdout",
     "output_type": "stream",
     "text": [
      "372.755918611\n",
      "0.841852331072\n",
      "5548.11447797\n"
     ]
    }
   ],
   "source": [
    "# Calculation of properties for given (p,h)\n",
    "p = 1e5\n",
    "h = 2000e3\n",
    "\n",
    "S = steam_ph(p,h)\n",
    "\n",
    "print S.T\n",
    "print S.rho\n",
    "print S.s"
   ]
  },
  {
   "cell_type": "code",
   "execution_count": 4,
   "metadata": {
    "collapsed": false
   },
   "outputs": [
    {
     "name": "stdout",
     "output_type": "stream",
     "text": [
      "2\n",
      "2730397.84597\n"
     ]
    }
   ],
   "source": [
    "# Calculation of properties for given (p,T)\n",
    "S2 = steam_pT(p, 400)\n",
    "\n",
    "print S2.region\n",
    "print S2.h"
   ]
  },
  {
   "cell_type": "code",
   "execution_count": 5,
   "metadata": {
    "collapsed": false
   },
   "outputs": [
    {
     "name": "stdout",
     "output_type": "stream",
     "text": [
      "1624329.03772\n",
      "4\n"
     ]
    }
   ],
   "source": [
    "# Calculation of saturation properties at given temperature, quality\n",
    "S3 = steam_Tx(400, 0.5)\n",
    "print S3.h\n",
    "print S3.region"
   ]
  },
  {
   "cell_type": "code",
   "execution_count": 6,
   "metadata": {
    "collapsed": false
   },
   "outputs": [
    {
     "name": "stdout",
     "output_type": "stream",
     "text": [
      "372.755918611\n",
      "417436.485816\n"
     ]
    }
   ],
   "source": [
    "# Calculation of saturated liquid properties at given pressure\n",
    "Tsat = Tsat_p(p)\n",
    "print Tsat\n",
    "S3 = steam_Tx(Tsat, 0)\n",
    "print S3.h"
   ]
  },
  {
   "cell_type": "code",
   "execution_count": null,
   "metadata": {
    "collapsed": true
   },
   "outputs": [],
   "source": []
  }
 ],
 "metadata": {
  "kernelspec": {
   "display_name": "Python 2",
   "language": "python",
   "name": "python2"
  },
  "language_info": {
   "codemirror_mode": {
    "name": "ipython",
    "version": 2
   },
   "file_extension": ".py",
   "mimetype": "text/x-python",
   "name": "python",
   "nbconvert_exporter": "python",
   "pygments_lexer": "ipython2",
   "version": "2.7.10"
  }
 },
 "nbformat": 4,
 "nbformat_minor": 0
}
